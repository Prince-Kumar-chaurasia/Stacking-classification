{
 "cells": [
  {
   "cell_type": "code",
   "execution_count": 13,
   "id": "9a217a3c-81d8-4973-9e1b-0dfaf5da4d00",
   "metadata": {},
   "outputs": [
    {
     "name": "stdout",
     "output_type": "stream",
     "text": [
      "3-fold cross validation:\n",
      "\n",
      "Accuracy: 0.97 (+/- 0.02) [KNN]\n",
      "Accuracy: 0.97 (+/- 0.05) [Random forest]\n",
      "Accuracy: 0.92 (+/- 0.08) [Naive Bayes]\n"
     ]
    }
   ],
   "source": [
    "\n",
    "from sklearn import datasets\n",
    "import pandas as pd\n",
    "from sklearn.model_selection import cross_val_score\n",
    "from sklearn.linear_model import LogisticRegression\n",
    "from sklearn.neighbors import KNeighborsClassifier\n",
    "from sklearn.naive_bayes import GaussianNB\n",
    "from sklearn.ensemble import RandomForestClassifier\n",
    "#from mlxtend.classifier import StackingClassifier\n",
    "import numpy as np\n",
    "from sklearn.preprocessing import LabelEncoder\n",
    "\n",
    "# Encode string labels (e.g., 'setosa', 'versicolor', 'virginica') into integers (0, 1, 2)\n",
    "label_encoder = LabelEncoder()\n",
    "y = label_encoder.fit_transform(y)\n",
    "\n",
    "\n",
    "# Load dataset\n",
    "iris = pd.read_csv(\"Datascience.csv\")\n",
    "x, y = iris.iloc[:, 1:3].values, iris.iloc[:, -1].values  # Assuming last column is target\n",
    "\n",
    "# Define classifiers\n",
    "clf1 = KNeighborsClassifier(n_neighbors=1)\n",
    "clf2 = RandomForestClassifier(random_state=1)\n",
    "clf3 = GaussianNB()\n",
    "lr = LogisticRegression()\n",
    "sclf = StackingClassifier(classifiers=[clf1, clf2, clf3], meta_classifier = lr)\n",
    "\n",
    "print('3-fold cross validation:\\n')\n",
    "\n",
    "# Evaluate models\n",
    "for clf, label in zip([clf1, clf2, clf3, sclf],\n",
    "                      ['KNN', 'Random forest', 'Naive Bayes']):\n",
    "    scores = cross_val_score(clf, x, y, cv=3, scoring='accuracy')\n",
    "    print('Accuracy: %0.2f (+/- %0.2f) [%s]' % (scores.mean(), scores.std(), label))"
   ]
  },
  {
   "cell_type": "code",
   "execution_count": null,
   "id": "d94ee9b3-fb50-4deb-869c-2cf410dec451",
   "metadata": {},
   "outputs": [],
   "source": [
    "\n",
    "\n",
    " "
   ]
  }
 ],
 "metadata": {
  "kernelspec": {
   "display_name": "Python 3 (ipykernel)",
   "language": "python",
   "name": "python3"
  },
  "language_info": {
   "codemirror_mode": {
    "name": "ipython",
    "version": 3
   },
   "file_extension": ".py",
   "mimetype": "text/x-python",
   "name": "python",
   "nbconvert_exporter": "python",
   "pygments_lexer": "ipython3",
   "version": "3.12.4"
  }
 },
 "nbformat": 4,
 "nbformat_minor": 5
}
